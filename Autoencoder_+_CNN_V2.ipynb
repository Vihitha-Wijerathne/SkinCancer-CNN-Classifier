{
 "cells": [
  {
   "cell_type": "code",
   "execution_count": 14,
   "metadata": {
    "colab": {
     "base_uri": "https://localhost:8080/"
    },
    "id": "Yqwsb-3ez_zc",
    "outputId": "46ba4cf0-e4f4-476a-c7bb-1417ff9aec32"
   },
   "outputs": [
    {
     "name": "stdout",
     "output_type": "stream",
     "text": [
      "Found 2239 images belonging to 9 classes.\n",
      "Found 118 images belonging to 9 classes.\n",
      "Epoch 1/50\n",
      "\u001b[1m69/69\u001b[0m \u001b[32m━━━━━━━━━━━━━━━━━━━━\u001b[0m\u001b[37m\u001b[0m \u001b[1m28s\u001b[0m 357ms/step - loss: 0.0331 - val_loss: 0.0276 - learning_rate: 0.0010\n",
      "Epoch 2/50\n",
      "\u001b[1m69/69\u001b[0m \u001b[32m━━━━━━━━━━━━━━━━━━━━\u001b[0m\u001b[37m\u001b[0m \u001b[1m22s\u001b[0m 316ms/step - loss: 0.0068 - val_loss: 0.0232 - learning_rate: 0.0010\n",
      "Epoch 3/50\n",
      "\u001b[1m69/69\u001b[0m \u001b[32m━━━━━━━━━━━━━━━━━━━━\u001b[0m\u001b[37m\u001b[0m \u001b[1m49s\u001b[0m 725ms/step - loss: 0.0045 - val_loss: 0.0234 - learning_rate: 0.0010\n",
      "Epoch 4/50\n",
      "\u001b[1m69/69\u001b[0m \u001b[32m━━━━━━━━━━━━━━━━━━━━\u001b[0m\u001b[37m\u001b[0m \u001b[1m54s\u001b[0m 777ms/step - loss: 0.0042 - val_loss: 0.0186 - learning_rate: 0.0010\n",
      "Epoch 5/50\n",
      "\u001b[1m69/69\u001b[0m \u001b[32m━━━━━━━━━━━━━━━━━━━━\u001b[0m\u001b[37m\u001b[0m \u001b[1m53s\u001b[0m 763ms/step - loss: 0.0032 - val_loss: 0.0163 - learning_rate: 0.0010\n",
      "Epoch 6/50\n",
      "\u001b[1m69/69\u001b[0m \u001b[32m━━━━━━━━━━━━━━━━━━━━\u001b[0m\u001b[37m\u001b[0m \u001b[1m54s\u001b[0m 786ms/step - loss: 0.0036 - val_loss: 0.0139 - learning_rate: 0.0010\n",
      "Epoch 7/50\n",
      "\u001b[1m69/69\u001b[0m \u001b[32m━━━━━━━━━━━━━━━━━━━━\u001b[0m\u001b[37m\u001b[0m \u001b[1m54s\u001b[0m 786ms/step - loss: 0.0033 - val_loss: 0.0123 - learning_rate: 0.0010\n",
      "Epoch 8/50\n",
      "\u001b[1m69/69\u001b[0m \u001b[32m━━━━━━━━━━━━━━━━━━━━\u001b[0m\u001b[37m\u001b[0m \u001b[1m53s\u001b[0m 774ms/step - loss: 0.0031 - val_loss: 0.0076 - learning_rate: 0.0010\n",
      "Epoch 9/50\n",
      "\u001b[1m69/69\u001b[0m \u001b[32m━━━━━━━━━━━━━━━━━━━━\u001b[0m\u001b[37m\u001b[0m \u001b[1m54s\u001b[0m 787ms/step - loss: 0.0028 - val_loss: 0.0070 - learning_rate: 0.0010\n",
      "Epoch 10/50\n",
      "\u001b[1m69/69\u001b[0m \u001b[32m━━━━━━━━━━━━━━━━━━━━\u001b[0m\u001b[37m\u001b[0m \u001b[1m54s\u001b[0m 784ms/step - loss: 0.0026 - val_loss: 0.0063 - learning_rate: 0.0010\n",
      "Epoch 11/50\n",
      "\u001b[1m69/69\u001b[0m \u001b[32m━━━━━━━━━━━━━━━━━━━━\u001b[0m\u001b[37m\u001b[0m \u001b[1m54s\u001b[0m 777ms/step - loss: 0.0026 - val_loss: 0.0061 - learning_rate: 0.0010\n",
      "Epoch 12/50\n",
      "\u001b[1m69/69\u001b[0m \u001b[32m━━━━━━━━━━━━━━━━━━━━\u001b[0m\u001b[37m\u001b[0m \u001b[1m53s\u001b[0m 772ms/step - loss: 0.0023 - val_loss: 0.0046 - learning_rate: 0.0010\n",
      "Epoch 13/50\n",
      "\u001b[1m69/69\u001b[0m \u001b[32m━━━━━━━━━━━━━━━━━━━━\u001b[0m\u001b[37m\u001b[0m \u001b[1m54s\u001b[0m 790ms/step - loss: 0.0024 - val_loss: 0.0050 - learning_rate: 0.0010\n",
      "Epoch 14/50\n",
      "\u001b[1m69/69\u001b[0m \u001b[32m━━━━━━━━━━━━━━━━━━━━\u001b[0m\u001b[37m\u001b[0m \u001b[1m54s\u001b[0m 788ms/step - loss: 0.0022 - val_loss: 0.0044 - learning_rate: 0.0010\n",
      "Epoch 15/50\n",
      "\u001b[1m69/69\u001b[0m \u001b[32m━━━━━━━━━━━━━━━━━━━━\u001b[0m\u001b[37m\u001b[0m \u001b[1m54s\u001b[0m 779ms/step - loss: 0.0023 - val_loss: 0.0054 - learning_rate: 0.0010\n",
      "Epoch 16/50\n",
      "\u001b[1m69/69\u001b[0m \u001b[32m━━━━━━━━━━━━━━━━━━━━\u001b[0m\u001b[37m\u001b[0m \u001b[1m53s\u001b[0m 767ms/step - loss: 0.0023 - val_loss: 0.0044 - learning_rate: 0.0010\n"
     ]
    },
    {
     "data": {
      "text/plain": [
       "<keras.src.callbacks.history.History at 0x1cedbcfb5f0>"
      ]
     },
     "execution_count": 14,
     "metadata": {},
     "output_type": "execute_result"
    }
   ],
   "source": [
    "# Import necessary libraries\n",
    "import numpy as np\n",
    "import matplotlib.pyplot as plt\n",
    "import tensorflow as tf\n",
    "from tensorflow.keras.preprocessing.image import ImageDataGenerator\n",
    "from tensorflow.keras.models import Sequential, Model\n",
    "from tensorflow.keras.layers import Input, Conv2D, MaxPooling2D, UpSampling2D, Flatten, Dense, Dropout, BatchNormalization\n",
    "from tensorflow.keras.optimizers import Adam\n",
    "from sklearn.utils import class_weight\n",
    "from sklearn.metrics import classification_report\n",
    "from tensorflow.keras.callbacks import EarlyStopping, ModelCheckpoint\n",
    "from re import VERBOSE\n",
    "\n",
    "# Create an ImageDataGenerator for rescaling the images\n",
    "train_datagen = ImageDataGenerator(\n",
    "    rescale=1./255,\n",
    "    rotation_range=40,\n",
    "    width_shift_range=0.3,\n",
    "    height_shift_range=0.3,\n",
    "    shear_range=0.3,\n",
    "    zoom_range=0.4,\n",
    "    horizontal_flip=True,\n",
    "    fill_mode='nearest'\n",
    ")\n",
    "\n",
    "test_datagen = ImageDataGenerator(rescale=1./255)\n",
    "\n",
    "# Load training and test data into numpy arrays\n",
    "train_generator = train_datagen.flow_from_directory(\n",
    "    'skin_cancer_dataset/skin_cancer_dataset/Train',\n",
    "    target_size=(64, 64),\n",
    "    batch_size=32,\n",
    "    class_mode=None,  # No labels needed for autoencoder\n",
    "    shuffle=True\n",
    ")\n",
    "\n",
    "test_generator = test_datagen.flow_from_directory(\n",
    "    'skin_cancer_dataset/skin_cancer_dataset/Test',\n",
    "    target_size=(64, 64),\n",
    "    batch_size=32,\n",
    "    class_mode=None  # No labels needed for autoencoder\n",
    ")\n",
    "\n",
    "# Define a custom generator for the autoencoder\n",
    "def autoencoder_generator(generator):\n",
    "    for batch in generator:\n",
    "        yield (batch, batch)  # Input and output are the same for autoencoder\n",
    "\n",
    "# Define the autoencoder model with Dropout layers to avoid overfitting\n",
    "input_img = Input(shape=(64, 64, 3))  # Input shape of the images\n",
    "\n",
    "# Define the encoder with Batch Normalization\n",
    "x = Conv2D(32, (3, 3), activation='relu', padding='same')(input_img)\n",
    "x = BatchNormalization()(x)\n",
    "x = MaxPooling2D((2, 2), padding='same')(x)\n",
    "x = Dropout(0.5)(x)\n",
    "x = Conv2D(64, (3, 3), activation='relu', padding='same')(x)\n",
    "x = BatchNormalization()(x)\n",
    "x = MaxPooling2D((2, 2), padding='same')(x)\n",
    "x = Dropout(0.5)(x)\n",
    "x = Conv2D(128, (3, 3), activation='relu', padding='same')(x)\n",
    "x = BatchNormalization()(x)\n",
    "encoded = MaxPooling2D((2, 2), padding='same')(x)  # Output shape is (8, 8, 128)\n",
    "\n",
    "# Define the decoder with Batch Normalization\n",
    "x = Conv2D(64, (3, 3), activation='relu', padding='same')(encoded)\n",
    "x = BatchNormalization()(x)\n",
    "x = UpSampling2D((2, 2))(x)  # Now output shape becomes (16, 16, 64)\n",
    "x = Conv2D(32, (3, 3), activation='relu', padding='same')(x)\n",
    "x = BatchNormalization()(x)\n",
    "x = UpSampling2D((2, 2))(x)  # Now output shape becomes (32, 32, 32)\n",
    "x = Conv2D(32, (3, 3), activation='relu', padding='same')(x)\n",
    "x = BatchNormalization()(x)\n",
    "x = UpSampling2D((2, 2))(x)  # Now output shape becomes (64, 64, 32)\n",
    "decoded = Conv2D(3, (3, 3), activation='sigmoid', padding='same')(x)  # Final output should match (64, 64, 3)\n",
    "\n",
    "# Combine encoder and decoder into an autoencoder model\n",
    "autoencoder = Model(input_img, decoded)\n",
    "autoencoder.compile(optimizer='adam', loss='mean_squared_error')\n",
    "\n",
    "\n",
    "# Get the number of samples in the dataset\n",
    "train_samples = train_generator.n\n",
    "test_samples = test_generator.n\n",
    "\n",
    "# Calculate steps per epoch\n",
    "steps_per_epoch_train = train_samples // 32  # Batch size of 32\n",
    "steps_per_epoch_test = test_samples // 32\n",
    "\n",
    "# Early stopping callback\n",
    "early_stopping = EarlyStopping(monitor='loss', patience=15, mode='max', restore_best_weights=True)\n",
    "\n",
    "# ModelCheckpoint with .keras extension\n",
    "model_checkpoint = ModelCheckpoint('best_cnn_model.keras', save_best_only=True, monitor='val_loss', mode='max')\n",
    "\n",
    "# ReduceLROnPlateau callback\n",
    "from tensorflow.keras.callbacks import ReduceLROnPlateau\n",
    "lr_sheduler = ReduceLROnPlateau(monitor='val_loss', factor=0.1, patience=5, verbose=1)\n",
    "\n",
    "# Train the autoencoder using the custom generator\n",
    "autoencoder.fit(\n",
    "    autoencoder_generator(train_generator),\n",
    "    steps_per_epoch=steps_per_epoch_train,\n",
    "    epochs=50,\n",
    "    validation_data=autoencoder_generator(test_generator),\n",
    "    validation_steps=steps_per_epoch_test,\n",
    "    callbacks=[early_stopping, model_checkpoint, lr_sheduler]\n",
    ")"
   ]
  },
  {
   "cell_type": "markdown",
   "metadata": {
    "id": "yUD6NQ4R7Dg9"
   },
   "source": [
    "## **Autoencoder for Feature Extraction + CNN for Classification**"
   ]
  },
  {
   "cell_type": "markdown",
   "metadata": {
    "id": "4g1rszuV8Kni"
   },
   "source": [
    "Step 1: Extract Encoded Features Using the Encoder\n",
    "Since we already trained our autoencoder, we can now extract the encoder part of the autoencoder to obtain the compressed features of our images.\n",
    "\n",
    "Create the Encoder: We will extract the encoder from the autoencoder and use it to generate compressed representations of our images."
   ]
  },
  {
   "cell_type": "code",
   "execution_count": 15,
   "metadata": {
    "id": "qmdkNuQw7Tdc"
   },
   "outputs": [
    {
     "name": "stdout",
     "output_type": "stream",
     "text": [
      "\u001b[1m69/69\u001b[0m \u001b[32m━━━━━━━━━━━━━━━━━━━━\u001b[0m\u001b[37m\u001b[0m \u001b[1m44s\u001b[0m 638ms/step\n",
      "\u001b[1m3/3\u001b[0m \u001b[32m━━━━━━━━━━━━━━━━━━━━\u001b[0m\u001b[37m\u001b[0m \u001b[1m2s\u001b[0m 1s/step \n",
      "Encoded train data shape: (2207, 32, 32, 64)\n",
      "Encoded test data shape: (86, 32, 32, 64)\n"
     ]
    }
   ],
   "source": [
    "# Define a custom generator for prediction that only yields input data\n",
    "def predict_generator(generator):\n",
    "    for batch in generator:\n",
    "        yield (batch, batch)  # The model expects (input, target), so we return (batch, batch) for autoencoders\n",
    "\n",
    "# Extract the encoder from the autoencoder\n",
    "encoder = Model(inputs=autoencoder.input, outputs=autoencoder.get_layer(index=5).output)  # Layer before decoding starts\n",
    "\n",
    "# Generate encoded (compressed) features for training and test data\n",
    "encoded_train = encoder.predict(predict_generator(train_generator), steps=steps_per_epoch_train)\n",
    "encoded_test = encoder.predict(predict_generator(test_generator), steps=steps_per_epoch_test)\n",
    "\n",
    "print(f'Encoded train data shape: {encoded_train.shape}')\n",
    "print(f'Encoded test data shape: {encoded_test.shape}')\n"
   ]
  },
  {
   "cell_type": "markdown",
   "metadata": {
    "id": "j7MfnV5w7W7o"
   },
   "source": [
    "The encoder.predict() function will generate the lower-dimensional representations (encoded features) of the input images.\n",
    "\n",
    "Step 2: Define the CNN for Classification\n",
    "Now that we have the encoded features, we will use them as input to a CNN classifier. The CNN will be responsible for classifying the compressed representations into their respective categories (e.g., the nine classes).\n",
    "\n",
    "Define the CNN: we can now define a CNN that takes the encoded features as input."
   ]
  },
  {
   "cell_type": "code",
   "execution_count": 16,
   "metadata": {
    "id": "IxGkD6NG7gze"
   },
   "outputs": [
    {
     "data": {
      "text/html": [
       "<pre style=\"white-space:pre;overflow-x:auto;line-height:normal;font-family:Menlo,'DejaVu Sans Mono',consolas,'Courier New',monospace\"><span style=\"font-weight: bold\">Model: \"sequential_2\"</span>\n",
       "</pre>\n"
      ],
      "text/plain": [
       "\u001b[1mModel: \"sequential_2\"\u001b[0m\n"
      ]
     },
     "metadata": {},
     "output_type": "display_data"
    },
    {
     "data": {
      "text/html": [
       "<pre style=\"white-space:pre;overflow-x:auto;line-height:normal;font-family:Menlo,'DejaVu Sans Mono',consolas,'Courier New',monospace\">┏━━━━━━━━━━━━━━━━━━━━━━━━━━━━━━━━━━━━━━┳━━━━━━━━━━━━━━━━━━━━━━━━━━━━━┳━━━━━━━━━━━━━━━━━┓\n",
       "┃<span style=\"font-weight: bold\"> Layer (type)                         </span>┃<span style=\"font-weight: bold\"> Output Shape                </span>┃<span style=\"font-weight: bold\">         Param # </span>┃\n",
       "┡━━━━━━━━━━━━━━━━━━━━━━━━━━━━━━━━━━━━━━╇━━━━━━━━━━━━━━━━━━━━━━━━━━━━━╇━━━━━━━━━━━━━━━━━┩\n",
       "│ flatten_2 (<span style=\"color: #0087ff; text-decoration-color: #0087ff\">Flatten</span>)                  │ (<span style=\"color: #00d7ff; text-decoration-color: #00d7ff\">None</span>, <span style=\"color: #00af00; text-decoration-color: #00af00\">65536</span>)               │               <span style=\"color: #00af00; text-decoration-color: #00af00\">0</span> │\n",
       "├──────────────────────────────────────┼─────────────────────────────┼─────────────────┤\n",
       "│ dense_10 (<span style=\"color: #0087ff; text-decoration-color: #0087ff\">Dense</span>)                     │ (<span style=\"color: #00d7ff; text-decoration-color: #00d7ff\">None</span>, <span style=\"color: #00af00; text-decoration-color: #00af00\">512</span>)                 │      <span style=\"color: #00af00; text-decoration-color: #00af00\">33,554,944</span> │\n",
       "├──────────────────────────────────────┼─────────────────────────────┼─────────────────┤\n",
       "│ batch_normalization_20               │ (<span style=\"color: #00d7ff; text-decoration-color: #00d7ff\">None</span>, <span style=\"color: #00af00; text-decoration-color: #00af00\">512</span>)                 │           <span style=\"color: #00af00; text-decoration-color: #00af00\">2,048</span> │\n",
       "│ (<span style=\"color: #0087ff; text-decoration-color: #0087ff\">BatchNormalization</span>)                 │                             │                 │\n",
       "├──────────────────────────────────────┼─────────────────────────────┼─────────────────┤\n",
       "│ dropout_12 (<span style=\"color: #0087ff; text-decoration-color: #0087ff\">Dropout</span>)                 │ (<span style=\"color: #00d7ff; text-decoration-color: #00d7ff\">None</span>, <span style=\"color: #00af00; text-decoration-color: #00af00\">512</span>)                 │               <span style=\"color: #00af00; text-decoration-color: #00af00\">0</span> │\n",
       "├──────────────────────────────────────┼─────────────────────────────┼─────────────────┤\n",
       "│ dense_11 (<span style=\"color: #0087ff; text-decoration-color: #0087ff\">Dense</span>)                     │ (<span style=\"color: #00d7ff; text-decoration-color: #00d7ff\">None</span>, <span style=\"color: #00af00; text-decoration-color: #00af00\">256</span>)                 │         <span style=\"color: #00af00; text-decoration-color: #00af00\">131,328</span> │\n",
       "├──────────────────────────────────────┼─────────────────────────────┼─────────────────┤\n",
       "│ batch_normalization_21               │ (<span style=\"color: #00d7ff; text-decoration-color: #00d7ff\">None</span>, <span style=\"color: #00af00; text-decoration-color: #00af00\">256</span>)                 │           <span style=\"color: #00af00; text-decoration-color: #00af00\">1,024</span> │\n",
       "│ (<span style=\"color: #0087ff; text-decoration-color: #0087ff\">BatchNormalization</span>)                 │                             │                 │\n",
       "├──────────────────────────────────────┼─────────────────────────────┼─────────────────┤\n",
       "│ dropout_13 (<span style=\"color: #0087ff; text-decoration-color: #0087ff\">Dropout</span>)                 │ (<span style=\"color: #00d7ff; text-decoration-color: #00d7ff\">None</span>, <span style=\"color: #00af00; text-decoration-color: #00af00\">256</span>)                 │               <span style=\"color: #00af00; text-decoration-color: #00af00\">0</span> │\n",
       "├──────────────────────────────────────┼─────────────────────────────┼─────────────────┤\n",
       "│ dense_12 (<span style=\"color: #0087ff; text-decoration-color: #0087ff\">Dense</span>)                     │ (<span style=\"color: #00d7ff; text-decoration-color: #00d7ff\">None</span>, <span style=\"color: #00af00; text-decoration-color: #00af00\">128</span>)                 │          <span style=\"color: #00af00; text-decoration-color: #00af00\">32,896</span> │\n",
       "├──────────────────────────────────────┼─────────────────────────────┼─────────────────┤\n",
       "│ batch_normalization_22               │ (<span style=\"color: #00d7ff; text-decoration-color: #00d7ff\">None</span>, <span style=\"color: #00af00; text-decoration-color: #00af00\">128</span>)                 │             <span style=\"color: #00af00; text-decoration-color: #00af00\">512</span> │\n",
       "│ (<span style=\"color: #0087ff; text-decoration-color: #0087ff\">BatchNormalization</span>)                 │                             │                 │\n",
       "├──────────────────────────────────────┼─────────────────────────────┼─────────────────┤\n",
       "│ dropout_14 (<span style=\"color: #0087ff; text-decoration-color: #0087ff\">Dropout</span>)                 │ (<span style=\"color: #00d7ff; text-decoration-color: #00d7ff\">None</span>, <span style=\"color: #00af00; text-decoration-color: #00af00\">128</span>)                 │               <span style=\"color: #00af00; text-decoration-color: #00af00\">0</span> │\n",
       "├──────────────────────────────────────┼─────────────────────────────┼─────────────────┤\n",
       "│ dense_13 (<span style=\"color: #0087ff; text-decoration-color: #0087ff\">Dense</span>)                     │ (<span style=\"color: #00d7ff; text-decoration-color: #00d7ff\">None</span>, <span style=\"color: #00af00; text-decoration-color: #00af00\">64</span>)                  │           <span style=\"color: #00af00; text-decoration-color: #00af00\">8,256</span> │\n",
       "├──────────────────────────────────────┼─────────────────────────────┼─────────────────┤\n",
       "│ batch_normalization_23               │ (<span style=\"color: #00d7ff; text-decoration-color: #00d7ff\">None</span>, <span style=\"color: #00af00; text-decoration-color: #00af00\">64</span>)                  │             <span style=\"color: #00af00; text-decoration-color: #00af00\">256</span> │\n",
       "│ (<span style=\"color: #0087ff; text-decoration-color: #0087ff\">BatchNormalization</span>)                 │                             │                 │\n",
       "├──────────────────────────────────────┼─────────────────────────────┼─────────────────┤\n",
       "│ dropout_15 (<span style=\"color: #0087ff; text-decoration-color: #0087ff\">Dropout</span>)                 │ (<span style=\"color: #00d7ff; text-decoration-color: #00d7ff\">None</span>, <span style=\"color: #00af00; text-decoration-color: #00af00\">64</span>)                  │               <span style=\"color: #00af00; text-decoration-color: #00af00\">0</span> │\n",
       "├──────────────────────────────────────┼─────────────────────────────┼─────────────────┤\n",
       "│ dense_14 (<span style=\"color: #0087ff; text-decoration-color: #0087ff\">Dense</span>)                     │ (<span style=\"color: #00d7ff; text-decoration-color: #00d7ff\">None</span>, <span style=\"color: #00af00; text-decoration-color: #00af00\">9</span>)                   │             <span style=\"color: #00af00; text-decoration-color: #00af00\">585</span> │\n",
       "└──────────────────────────────────────┴─────────────────────────────┴─────────────────┘\n",
       "</pre>\n"
      ],
      "text/plain": [
       "┏━━━━━━━━━━━━━━━━━━━━━━━━━━━━━━━━━━━━━━┳━━━━━━━━━━━━━━━━━━━━━━━━━━━━━┳━━━━━━━━━━━━━━━━━┓\n",
       "┃\u001b[1m \u001b[0m\u001b[1mLayer (type)                        \u001b[0m\u001b[1m \u001b[0m┃\u001b[1m \u001b[0m\u001b[1mOutput Shape               \u001b[0m\u001b[1m \u001b[0m┃\u001b[1m \u001b[0m\u001b[1m        Param #\u001b[0m\u001b[1m \u001b[0m┃\n",
       "┡━━━━━━━━━━━━━━━━━━━━━━━━━━━━━━━━━━━━━━╇━━━━━━━━━━━━━━━━━━━━━━━━━━━━━╇━━━━━━━━━━━━━━━━━┩\n",
       "│ flatten_2 (\u001b[38;5;33mFlatten\u001b[0m)                  │ (\u001b[38;5;45mNone\u001b[0m, \u001b[38;5;34m65536\u001b[0m)               │               \u001b[38;5;34m0\u001b[0m │\n",
       "├──────────────────────────────────────┼─────────────────────────────┼─────────────────┤\n",
       "│ dense_10 (\u001b[38;5;33mDense\u001b[0m)                     │ (\u001b[38;5;45mNone\u001b[0m, \u001b[38;5;34m512\u001b[0m)                 │      \u001b[38;5;34m33,554,944\u001b[0m │\n",
       "├──────────────────────────────────────┼─────────────────────────────┼─────────────────┤\n",
       "│ batch_normalization_20               │ (\u001b[38;5;45mNone\u001b[0m, \u001b[38;5;34m512\u001b[0m)                 │           \u001b[38;5;34m2,048\u001b[0m │\n",
       "│ (\u001b[38;5;33mBatchNormalization\u001b[0m)                 │                             │                 │\n",
       "├──────────────────────────────────────┼─────────────────────────────┼─────────────────┤\n",
       "│ dropout_12 (\u001b[38;5;33mDropout\u001b[0m)                 │ (\u001b[38;5;45mNone\u001b[0m, \u001b[38;5;34m512\u001b[0m)                 │               \u001b[38;5;34m0\u001b[0m │\n",
       "├──────────────────────────────────────┼─────────────────────────────┼─────────────────┤\n",
       "│ dense_11 (\u001b[38;5;33mDense\u001b[0m)                     │ (\u001b[38;5;45mNone\u001b[0m, \u001b[38;5;34m256\u001b[0m)                 │         \u001b[38;5;34m131,328\u001b[0m │\n",
       "├──────────────────────────────────────┼─────────────────────────────┼─────────────────┤\n",
       "│ batch_normalization_21               │ (\u001b[38;5;45mNone\u001b[0m, \u001b[38;5;34m256\u001b[0m)                 │           \u001b[38;5;34m1,024\u001b[0m │\n",
       "│ (\u001b[38;5;33mBatchNormalization\u001b[0m)                 │                             │                 │\n",
       "├──────────────────────────────────────┼─────────────────────────────┼─────────────────┤\n",
       "│ dropout_13 (\u001b[38;5;33mDropout\u001b[0m)                 │ (\u001b[38;5;45mNone\u001b[0m, \u001b[38;5;34m256\u001b[0m)                 │               \u001b[38;5;34m0\u001b[0m │\n",
       "├──────────────────────────────────────┼─────────────────────────────┼─────────────────┤\n",
       "│ dense_12 (\u001b[38;5;33mDense\u001b[0m)                     │ (\u001b[38;5;45mNone\u001b[0m, \u001b[38;5;34m128\u001b[0m)                 │          \u001b[38;5;34m32,896\u001b[0m │\n",
       "├──────────────────────────────────────┼─────────────────────────────┼─────────────────┤\n",
       "│ batch_normalization_22               │ (\u001b[38;5;45mNone\u001b[0m, \u001b[38;5;34m128\u001b[0m)                 │             \u001b[38;5;34m512\u001b[0m │\n",
       "│ (\u001b[38;5;33mBatchNormalization\u001b[0m)                 │                             │                 │\n",
       "├──────────────────────────────────────┼─────────────────────────────┼─────────────────┤\n",
       "│ dropout_14 (\u001b[38;5;33mDropout\u001b[0m)                 │ (\u001b[38;5;45mNone\u001b[0m, \u001b[38;5;34m128\u001b[0m)                 │               \u001b[38;5;34m0\u001b[0m │\n",
       "├──────────────────────────────────────┼─────────────────────────────┼─────────────────┤\n",
       "│ dense_13 (\u001b[38;5;33mDense\u001b[0m)                     │ (\u001b[38;5;45mNone\u001b[0m, \u001b[38;5;34m64\u001b[0m)                  │           \u001b[38;5;34m8,256\u001b[0m │\n",
       "├──────────────────────────────────────┼─────────────────────────────┼─────────────────┤\n",
       "│ batch_normalization_23               │ (\u001b[38;5;45mNone\u001b[0m, \u001b[38;5;34m64\u001b[0m)                  │             \u001b[38;5;34m256\u001b[0m │\n",
       "│ (\u001b[38;5;33mBatchNormalization\u001b[0m)                 │                             │                 │\n",
       "├──────────────────────────────────────┼─────────────────────────────┼─────────────────┤\n",
       "│ dropout_15 (\u001b[38;5;33mDropout\u001b[0m)                 │ (\u001b[38;5;45mNone\u001b[0m, \u001b[38;5;34m64\u001b[0m)                  │               \u001b[38;5;34m0\u001b[0m │\n",
       "├──────────────────────────────────────┼─────────────────────────────┼─────────────────┤\n",
       "│ dense_14 (\u001b[38;5;33mDense\u001b[0m)                     │ (\u001b[38;5;45mNone\u001b[0m, \u001b[38;5;34m9\u001b[0m)                   │             \u001b[38;5;34m585\u001b[0m │\n",
       "└──────────────────────────────────────┴─────────────────────────────┴─────────────────┘\n"
      ]
     },
     "metadata": {},
     "output_type": "display_data"
    },
    {
     "data": {
      "text/html": [
       "<pre style=\"white-space:pre;overflow-x:auto;line-height:normal;font-family:Menlo,'DejaVu Sans Mono',consolas,'Courier New',monospace\"><span style=\"font-weight: bold\"> Total params: </span><span style=\"color: #00af00; text-decoration-color: #00af00\">33,731,849</span> (128.68 MB)\n",
       "</pre>\n"
      ],
      "text/plain": [
       "\u001b[1m Total params: \u001b[0m\u001b[38;5;34m33,731,849\u001b[0m (128.68 MB)\n"
      ]
     },
     "metadata": {},
     "output_type": "display_data"
    },
    {
     "data": {
      "text/html": [
       "<pre style=\"white-space:pre;overflow-x:auto;line-height:normal;font-family:Menlo,'DejaVu Sans Mono',consolas,'Courier New',monospace\"><span style=\"font-weight: bold\"> Trainable params: </span><span style=\"color: #00af00; text-decoration-color: #00af00\">33,729,929</span> (128.67 MB)\n",
       "</pre>\n"
      ],
      "text/plain": [
       "\u001b[1m Trainable params: \u001b[0m\u001b[38;5;34m33,729,929\u001b[0m (128.67 MB)\n"
      ]
     },
     "metadata": {},
     "output_type": "display_data"
    },
    {
     "data": {
      "text/html": [
       "<pre style=\"white-space:pre;overflow-x:auto;line-height:normal;font-family:Menlo,'DejaVu Sans Mono',consolas,'Courier New',monospace\"><span style=\"font-weight: bold\"> Non-trainable params: </span><span style=\"color: #00af00; text-decoration-color: #00af00\">1,920</span> (7.50 KB)\n",
       "</pre>\n"
      ],
      "text/plain": [
       "\u001b[1m Non-trainable params: \u001b[0m\u001b[38;5;34m1,920\u001b[0m (7.50 KB)\n"
      ]
     },
     "metadata": {},
     "output_type": "display_data"
    },
    {
     "name": "stdout",
     "output_type": "stream",
     "text": [
      "None\n"
     ]
    }
   ],
   "source": [
    "from tensorflow.keras.layers import Dense, Dropout, BatchNormalization, Flatten, Input\n",
    "from tensorflow.keras.optimizers import Adam\n",
    "from tensorflow.keras.models import Sequential\n",
    "from tensorflow.keras.regularizers import l2\n",
    "\n",
    "# Define the CNN model for classification (using fully connected layers)\n",
    "cnn_model = Sequential()\n",
    "\n",
    "# Input layer\n",
    "cnn_model.add(Input(shape=encoded_train.shape[1:]))  # Using Input layer explicitly\n",
    "\n",
    "# Fully connected layers (Increase the number of layers and nodes)\n",
    "cnn_model.add(Flatten())  # Flatten the encoded inputs\n",
    "\n",
    "cnn_model.add(Dense(512, activation='relu', kernel_regularizer=l2(0.001))) \n",
    "cnn_model.add(BatchNormalization())\n",
    "cnn_model.add(Dropout(0.5))\n",
    "\n",
    "cnn_model.add(Dense(256, activation='relu', kernel_regularizer=l2(0.001)))  \n",
    "cnn_model.add(BatchNormalization())\n",
    "cnn_model.add(Dropout(0.5))\n",
    "\n",
    "cnn_model.add(Dense(128, activation='relu', kernel_regularizer=l2(0.001)))  \n",
    "cnn_model.add(BatchNormalization())\n",
    "cnn_model.add(Dropout(0.5))\n",
    "\n",
    "cnn_model.add(Dense(64, activation='relu', kernel_regularizer=l2(0.001)))  \n",
    "cnn_model.add(BatchNormalization())\n",
    "cnn_model.add(Dropout(0.5))\n",
    "\n",
    "# Output layer for 9 classes (using softmax for multi-class classification)\n",
    "cnn_model.add(Dense(9, activation='softmax'))  # 9 classes\n",
    "\n",
    "# Define the Adam optimizer with the learning rate\n",
    "adam_optimizer = Adam(learning_rate=0.0001)  # Increased learning rate\n",
    "\n",
    "# Compile the CNN model with the optimizer\n",
    "cnn_model.compile(optimizer=adam_optimizer, loss='categorical_crossentropy', metrics=['accuracy'])\n",
    "\n",
    "# Print the model summary\n",
    "print(cnn_model.summary())\n"
   ]
  },
  {
   "cell_type": "markdown",
   "metadata": {
    "id": "u8o8fj7X7llT"
   },
   "source": [
    "Note: The final layer uses a softmax activation because we are performing multi-class classification (9 classes in this case).\n",
    "Step 3: Prepare the Labels for Classification\n",
    "we need to retrieve the labels from the original data and convert them to one-hot encoded format because we’ll be performing multi-class classification."
   ]
  },
  {
   "cell_type": "code",
   "execution_count": 17,
   "metadata": {
    "id": "m6M3-CO47pCq"
   },
   "outputs": [],
   "source": [
    "from tensorflow.keras.utils import to_categorical\n",
    "\n",
    "# Load the original labels from train and test generators\n",
    "train_labels = train_generator.classes  # The labels for the training data\n",
    "test_labels = test_generator.classes  # The labels for the test data\n",
    "\n",
    "# Convert the labels to one-hot encoding\n",
    "train_labels_one_hot = to_categorical(train_labels, num_classes=9)  # 9 classes\n",
    "test_labels_one_hot = to_categorical(test_labels, num_classes=9)\n"
   ]
  },
  {
   "cell_type": "markdown",
   "metadata": {
    "id": "RK6FxMoY7rj-"
   },
   "source": [
    "Step 4: Train the CNN Using the Encoded Features\n",
    "Now that we have the encoded features and their corresponding labels, we can train the CNN model."
   ]
  },
  {
   "cell_type": "code",
   "execution_count": 18,
   "metadata": {
    "id": "rkpUitvC9eUf"
   },
   "outputs": [
    {
     "name": "stdout",
     "output_type": "stream",
     "text": [
      "Encoded test shape: (86, 32, 32, 64)\n",
      "Test labels shape: (118, 9)\n"
     ]
    }
   ],
   "source": [
    "print(f'Encoded test shape: {encoded_test.shape}')  # Shape of encoded test data\n",
    "print(f'Test labels shape: {test_labels_one_hot.shape}')  # Shape of test labels\n"
   ]
  },
  {
   "cell_type": "code",
   "execution_count": 19,
   "metadata": {
    "id": "Snwr4kCh-pJ3"
   },
   "outputs": [
    {
     "name": "stdout",
     "output_type": "stream",
     "text": [
      "Updated encoded test shape: (86, 32, 32, 64)\n",
      "Updated test labels shape: (96, 9)\n"
     ]
    }
   ],
   "source": [
    "# Trim the test labels to match the size of the encoded test data\n",
    "test_labels_one_hot = test_labels_one_hot[:96]\n",
    "\n",
    "# Verify the new shapes\n",
    "print(f'Updated encoded test shape: {encoded_test.shape}')\n",
    "print(f'Updated test labels shape: {test_labels_one_hot.shape}')\n"
   ]
  },
  {
   "cell_type": "code",
   "execution_count": 20,
   "metadata": {
    "id": "Ixtu-J3U7oN6"
   },
   "outputs": [
    {
     "name": "stdout",
     "output_type": "stream",
     "text": [
      "Updated encoded train shape: (2207, 32, 32, 64)\n",
      "Updated train labels shape: (2207, 9)\n",
      "Updated encoded test shape: (86, 32, 32, 64)\n",
      "Updated test labels shape: (86, 9)\n",
      "Epoch 1/100\n",
      "\u001b[1m69/69\u001b[0m \u001b[32m━━━━━━━━━━━━━━━━━━━━\u001b[0m\u001b[37m\u001b[0m \u001b[1m34s\u001b[0m 384ms/step - accuracy: 0.0975 - loss: 4.9363 - val_accuracy: 0.2209 - val_loss: 3.2336 - learning_rate: 1.0000e-04\n",
      "Epoch 2/100\n",
      "\u001b[1m69/69\u001b[0m \u001b[32m━━━━━━━━━━━━━━━━━━━━\u001b[0m\u001b[37m\u001b[0m \u001b[1m23s\u001b[0m 330ms/step - accuracy: 0.1100 - loss: 4.4813 - val_accuracy: 0.0465 - val_loss: 3.7070 - learning_rate: 1.0000e-04\n",
      "Epoch 3/100\n",
      "\u001b[1m69/69\u001b[0m \u001b[32m━━━━━━━━━━━━━━━━━━━━\u001b[0m\u001b[37m\u001b[0m \u001b[1m23s\u001b[0m 328ms/step - accuracy: 0.1142 - loss: 4.5771 - val_accuracy: 0.1163 - val_loss: 3.6251 - learning_rate: 1.0000e-04\n",
      "Epoch 4/100\n",
      "\u001b[1m69/69\u001b[0m \u001b[32m━━━━━━━━━━━━━━━━━━━━\u001b[0m\u001b[37m\u001b[0m \u001b[1m23s\u001b[0m 327ms/step - accuracy: 0.1018 - loss: 4.2905 - val_accuracy: 0.1163 - val_loss: 3.3357 - learning_rate: 1.0000e-04\n",
      "Epoch 5/100\n",
      "\u001b[1m69/69\u001b[0m \u001b[32m━━━━━━━━━━━━━━━━━━━━\u001b[0m\u001b[37m\u001b[0m \u001b[1m23s\u001b[0m 326ms/step - accuracy: 0.1208 - loss: 4.3229 - val_accuracy: 0.1628 - val_loss: 3.6075 - learning_rate: 1.0000e-04\n",
      "Epoch 6/100\n",
      "\u001b[1m69/69\u001b[0m \u001b[32m━━━━━━━━━━━━━━━━━━━━\u001b[0m\u001b[37m\u001b[0m \u001b[1m0s\u001b[0m 323ms/step - accuracy: 0.1244 - loss: 4.3583\n",
      "Epoch 6: ReduceLROnPlateau reducing learning rate to 9.999999747378752e-06.\n",
      "\u001b[1m69/69\u001b[0m \u001b[32m━━━━━━━━━━━━━━━━━━━━\u001b[0m\u001b[37m\u001b[0m \u001b[1m23s\u001b[0m 326ms/step - accuracy: 0.1242 - loss: 4.3577 - val_accuracy: 0.0349 - val_loss: 3.7027 - learning_rate: 1.0000e-04\n",
      "Epoch 7/100\n",
      "\u001b[1m69/69\u001b[0m \u001b[32m━━━━━━━━━━━━━━━━━━━━\u001b[0m\u001b[37m\u001b[0m \u001b[1m23s\u001b[0m 327ms/step - accuracy: 0.1064 - loss: 4.1974 - val_accuracy: 0.0465 - val_loss: 3.4280 - learning_rate: 1.0000e-05\n",
      "Epoch 8/100\n",
      "\u001b[1m69/69\u001b[0m \u001b[32m━━━━━━━━━━━━━━━━━━━━\u001b[0m\u001b[37m\u001b[0m \u001b[1m23s\u001b[0m 327ms/step - accuracy: 0.0912 - loss: 4.1908 - val_accuracy: 0.0930 - val_loss: 3.3791 - learning_rate: 1.0000e-05\n",
      "Epoch 9/100\n",
      "\u001b[1m69/69\u001b[0m \u001b[32m━━━━━━━━━━━━━━━━━━━━\u001b[0m\u001b[37m\u001b[0m \u001b[1m23s\u001b[0m 330ms/step - accuracy: 0.1047 - loss: 4.2096 - val_accuracy: 0.1395 - val_loss: 3.3298 - learning_rate: 1.0000e-05\n",
      "Epoch 10/100\n",
      "\u001b[1m69/69\u001b[0m \u001b[32m━━━━━━━━━━━━━━━━━━━━\u001b[0m\u001b[37m\u001b[0m \u001b[1m23s\u001b[0m 328ms/step - accuracy: 0.1200 - loss: 4.2169 - val_accuracy: 0.1279 - val_loss: 3.3241 - learning_rate: 1.0000e-05\n",
      "Epoch 11/100\n",
      "\u001b[1m69/69\u001b[0m \u001b[32m━━━━━━━━━━━━━━━━━━━━\u001b[0m\u001b[37m\u001b[0m \u001b[1m0s\u001b[0m 324ms/step - accuracy: 0.1194 - loss: 4.2143\n",
      "Epoch 11: ReduceLROnPlateau reducing learning rate to 9.999999747378752e-07.\n",
      "\u001b[1m69/69\u001b[0m \u001b[32m━━━━━━━━━━━━━━━━━━━━\u001b[0m\u001b[37m\u001b[0m \u001b[1m23s\u001b[0m 327ms/step - accuracy: 0.1193 - loss: 4.2137 - val_accuracy: 0.1279 - val_loss: 3.3196 - learning_rate: 1.0000e-05\n",
      "Epoch 12/100\n",
      "\u001b[1m69/69\u001b[0m \u001b[32m━━━━━━━━━━━━━━━━━━━━\u001b[0m\u001b[37m\u001b[0m \u001b[1m23s\u001b[0m 328ms/step - accuracy: 0.1211 - loss: 4.1924 - val_accuracy: 0.1395 - val_loss: 3.3146 - learning_rate: 1.0000e-06\n",
      "Epoch 13/100\n",
      "\u001b[1m69/69\u001b[0m \u001b[32m━━━━━━━━━━━━━━━━━━━━\u001b[0m\u001b[37m\u001b[0m \u001b[1m23s\u001b[0m 327ms/step - accuracy: 0.1097 - loss: 4.0372 - val_accuracy: 0.1395 - val_loss: 3.3175 - learning_rate: 1.0000e-06\n",
      "Epoch 14/100\n",
      "\u001b[1m69/69\u001b[0m \u001b[32m━━━━━━━━━━━━━━━━━━━━\u001b[0m\u001b[37m\u001b[0m \u001b[1m23s\u001b[0m 328ms/step - accuracy: 0.1292 - loss: 4.1606 - val_accuracy: 0.1512 - val_loss: 3.3127 - learning_rate: 1.0000e-06\n",
      "Epoch 15/100\n",
      "\u001b[1m69/69\u001b[0m \u001b[32m━━━━━━━━━━━━━━━━━━━━\u001b[0m\u001b[37m\u001b[0m \u001b[1m23s\u001b[0m 327ms/step - accuracy: 0.1271 - loss: 4.1223 - val_accuracy: 0.1512 - val_loss: 3.3114 - learning_rate: 1.0000e-06\n",
      "Epoch 16/100\n",
      "\u001b[1m69/69\u001b[0m \u001b[32m━━━━━━━━━━━━━━━━━━━━\u001b[0m\u001b[37m\u001b[0m \u001b[1m0s\u001b[0m 324ms/step - accuracy: 0.1188 - loss: 4.1984\n",
      "Epoch 16: ReduceLROnPlateau reducing learning rate to 9.999999974752428e-08.\n",
      "\u001b[1m69/69\u001b[0m \u001b[32m━━━━━━━━━━━━━━━━━━━━\u001b[0m\u001b[37m\u001b[0m \u001b[1m23s\u001b[0m 327ms/step - accuracy: 0.1187 - loss: 4.1986 - val_accuracy: 0.1395 - val_loss: 3.3124 - learning_rate: 1.0000e-06\n",
      "Epoch 17/100\n",
      "\u001b[1m69/69\u001b[0m \u001b[32m━━━━━━━━━━━━━━━━━━━━\u001b[0m\u001b[37m\u001b[0m \u001b[1m23s\u001b[0m 329ms/step - accuracy: 0.1141 - loss: 4.2981 - val_accuracy: 0.1279 - val_loss: 3.3151 - learning_rate: 1.0000e-07\n",
      "Epoch 18/100\n",
      "\u001b[1m69/69\u001b[0m \u001b[32m━━━━━━━━━━━━━━━━━━━━\u001b[0m\u001b[37m\u001b[0m \u001b[1m23s\u001b[0m 329ms/step - accuracy: 0.1106 - loss: 4.1574 - val_accuracy: 0.1395 - val_loss: 3.3146 - learning_rate: 1.0000e-07\n",
      "Epoch 19/100\n",
      "\u001b[1m69/69\u001b[0m \u001b[32m━━━━━━━━━━━━━━━━━━━━\u001b[0m\u001b[37m\u001b[0m \u001b[1m23s\u001b[0m 331ms/step - accuracy: 0.1006 - loss: 4.2141 - val_accuracy: 0.1279 - val_loss: 3.3157 - learning_rate: 1.0000e-07\n",
      "Epoch 20/100\n",
      "\u001b[1m69/69\u001b[0m \u001b[32m━━━━━━━━━━━━━━━━━━━━\u001b[0m\u001b[37m\u001b[0m \u001b[1m23s\u001b[0m 331ms/step - accuracy: 0.1175 - loss: 4.1759 - val_accuracy: 0.1512 - val_loss: 3.3187 - learning_rate: 1.0000e-07\n",
      "Epoch 21/100\n",
      "\u001b[1m69/69\u001b[0m \u001b[32m━━━━━━━━━━━━━━━━━━━━\u001b[0m\u001b[37m\u001b[0m \u001b[1m0s\u001b[0m 327ms/step - accuracy: 0.1196 - loss: 4.2126\n",
      "Epoch 21: ReduceLROnPlateau reducing learning rate to 1.0000000116860975e-08.\n",
      "\u001b[1m69/69\u001b[0m \u001b[32m━━━━━━━━━━━━━━━━━━━━\u001b[0m\u001b[37m\u001b[0m \u001b[1m23s\u001b[0m 330ms/step - accuracy: 0.1196 - loss: 4.2122 - val_accuracy: 0.1395 - val_loss: 3.3192 - learning_rate: 1.0000e-07\n",
      "Epoch 22/100\n",
      "\u001b[1m69/69\u001b[0m \u001b[32m━━━━━━━━━━━━━━━━━━━━\u001b[0m\u001b[37m\u001b[0m \u001b[1m23s\u001b[0m 327ms/step - accuracy: 0.1169 - loss: 4.1687 - val_accuracy: 0.1279 - val_loss: 3.3193 - learning_rate: 1.0000e-08\n",
      "Epoch 23/100\n",
      "\u001b[1m69/69\u001b[0m \u001b[32m━━━━━━━━━━━━━━━━━━━━\u001b[0m\u001b[37m\u001b[0m \u001b[1m23s\u001b[0m 327ms/step - accuracy: 0.1045 - loss: 4.2460 - val_accuracy: 0.1279 - val_loss: 3.3191 - learning_rate: 1.0000e-08\n",
      "Epoch 24/100\n",
      "\u001b[1m69/69\u001b[0m \u001b[32m━━━━━━━━━━━━━━━━━━━━\u001b[0m\u001b[37m\u001b[0m \u001b[1m23s\u001b[0m 327ms/step - accuracy: 0.0963 - loss: 4.2135 - val_accuracy: 0.1163 - val_loss: 3.3176 - learning_rate: 1.0000e-08\n",
      "Epoch 25/100\n",
      "\u001b[1m69/69\u001b[0m \u001b[32m━━━━━━━━━━━━━━━━━━━━\u001b[0m\u001b[37m\u001b[0m \u001b[1m23s\u001b[0m 327ms/step - accuracy: 0.1193 - loss: 4.0605 - val_accuracy: 0.1395 - val_loss: 3.3177 - learning_rate: 1.0000e-08\n",
      "Epoch 26/100\n",
      "\u001b[1m69/69\u001b[0m \u001b[32m━━━━━━━━━━━━━━━━━━━━\u001b[0m\u001b[37m\u001b[0m \u001b[1m0s\u001b[0m 324ms/step - accuracy: 0.1054 - loss: 4.4074\n",
      "Epoch 26: ReduceLROnPlateau reducing learning rate to 9.999999939225292e-10.\n",
      "\u001b[1m69/69\u001b[0m \u001b[32m━━━━━━━━━━━━━━━━━━━━\u001b[0m\u001b[37m\u001b[0m \u001b[1m23s\u001b[0m 327ms/step - accuracy: 0.1053 - loss: 4.4046 - val_accuracy: 0.1279 - val_loss: 3.3170 - learning_rate: 1.0000e-08\n",
      "\u001b[1m3/3\u001b[0m \u001b[32m━━━━━━━━━━━━━━━━━━━━\u001b[0m\u001b[37m\u001b[0m \u001b[1m0s\u001b[0m 41ms/step - accuracy: 0.1495 - loss: 3.2937\n",
      "Test Accuracy: 0.22093023359775543%\n"
     ]
    },
    {
     "data": {
      "image/png": "[encoded data removed]",
      "text/plain": [
       "<Figure size 640x480 with 1 Axes>"
      ]
     },
     "metadata": {},
     "output_type": "display_data"
    },
    {
     "data": {
      "image/png": "[encoded data removed]",
      "text/plain": [
       "<Figure size 640x480 with 1 Axes>"
      ]
     },
     "metadata": {},
     "output_type": "display_data"
    }
   ],
   "source": [
    "# Trim the training labels to match the size of the encoded training data\n",
    "train_labels_one_hot = train_labels_one_hot[:encoded_train.shape[0]]\n",
    "\n",
    "# Similarly, check and trim the test set if needed\n",
    "test_labels_one_hot = test_labels_one_hot[:encoded_test.shape[0]]\n",
    "\n",
    "# Verify the new shapes\n",
    "print(f'Updated encoded train shape: {encoded_train.shape}')\n",
    "print(f'Updated train labels shape: {train_labels_one_hot.shape}')\n",
    "print(f'Updated encoded test shape: {encoded_test.shape}')\n",
    "print(f'Updated test labels shape: {test_labels_one_hot.shape}')\n",
    "\n",
    "# Compute class weights to handle class imbalance\n",
    "class_weights = class_weight.compute_class_weight(\n",
    "    class_weight='balanced',  # Use balanced class weight\n",
    "    classes=np.unique(np.argmax(train_labels_one_hot, axis=1)),  # Unique class labels\n",
    "    y=np.argmax(train_labels_one_hot, axis=1)  # Actual class labels\n",
    ")\n",
    "\n",
    "# Convert the class weights to a dictionary\n",
    "class_weights_dict = dict(enumerate(class_weights))\n",
    "\n",
    "# Define early stopping callback\n",
    "early_stopping = EarlyStopping(monitor='val_accuracy', patience=25, restore_best_weights=True, mode='max')\n",
    "\n",
    "# ModelCheckpoint with .keras extension\n",
    "model_checkpoint = ModelCheckpoint('best_cnn_model.keras', save_best_only=True, monitor='val_accuracy', mode='max')\n",
    "\n",
    "# ReduceLROnPlateau callback\n",
    "from tensorflow.keras.callbacks import ReduceLROnPlateau\n",
    "lr_sheduler = ReduceLROnPlateau(monitor='val_loss', factor=0.1, patience=5, verbose=1)\n",
    "\n",
    "# Train the CNN model\n",
    "history = cnn_model.fit(\n",
    "    encoded_train, train_labels_one_hot,\n",
    "    epochs=100,\n",
    "    batch_size=32,\n",
    "    validation_data=(encoded_test, test_labels_one_hot),\n",
    "    class_weight=class_weights_dict,\n",
    "    callbacks=[early_stopping, model_checkpoint, lr_sheduler]\n",
    ")\n",
    "\n",
    "# Evaluate the model\n",
    "test_loss, test_accuracy = cnn_model.evaluate(encoded_test, test_labels_one_hot)\n",
    "accuracy_percentage = test_accuracy\n",
    "print(f'Test Accuracy: {accuracy_percentage}%')\n",
    "\n",
    "# Plotting Accuracy and Loss\n",
    "# Plot accuracy\n",
    "plt.plot(history.history['accuracy'])\n",
    "plt.plot(history.history['val_accuracy'])\n",
    "plt.title('Model accuracy')\n",
    "plt.ylabel('Accuracy')\n",
    "plt.xlabel('Epoch')\n",
    "plt.legend(['Train', 'Validation'], loc='upper left')\n",
    "plt.show()\n",
    "\n",
    "# Plot loss\n",
    "plt.plot(history.history['loss'])\n",
    "plt.plot(history.history['val_loss'])\n",
    "plt.title('Model loss')\n",
    "plt.ylabel('Loss')\n",
    "plt.xlabel('Epoch')\n",
    "plt.legend(['Train', 'Validation'], loc='upper left')\n",
    "plt.show()"
   ]
  },
  {
   "cell_type": "markdown",
   "metadata": {
    "id": "IyCRzLNX882R"
   },
   "source": [
    "This will train our CNN classifier on the encoded features extracted by the autoencoder.\n",
    "\n",
    "Step 5: Evaluate the CNN Model\n",
    "After training, we can evaluate the CNN on the test set to check its accuracy."
   ]
  },
  {
   "cell_type": "markdown",
   "metadata": {
    "id": "8SYZZYdi9Ki5"
   },
   "source": [
    "\n",
    "Step 6: Save the Model\n",
    "Finally, we can save both the autoencoder and CNN models for future use."
   ]
  },
  {
   "cell_type": "code",
   "execution_count": 21,
   "metadata": {
    "id": "bNeO_lZ89Ozm"
   },
   "outputs": [
    {
     "name": "stderr",
     "output_type": "stream",
     "text": [
      "WARNING:absl:You are saving your model as an HDF5 file via `model.save()` or `keras.saving.save_model(model)`. This file format is considered legacy. We recommend using instead the native Keras format, e.g. `model.save('my_model.keras')` or `keras.saving.save_model(model, 'my_model.keras')`. \n",
      "WARNING:absl:You are saving your model as an HDF5 file via `model.save()` or `keras.saving.save_model(model)`. This file format is considered legacy. We recommend using instead the native Keras format, e.g. `model.save('my_model.keras')` or `keras.saving.save_model(model, 'my_model.keras')`. \n"
     ]
    }
   ],
   "source": [
    "# Save the CNN model\n",
    "cnn_model.save('cnn_classification_model.h5')\n",
    "\n",
    "# Optionally, save the encoder if you want to reuse it\n",
    "encoder.save('encoder_model.h5')"
   ]
  },
  {
   "cell_type": "code",
   "execution_count": null,
   "metadata": {},
   "outputs": [],
   "source": []
  }
 ],
 "metadata": {
  "colab": {
   "provenance": []
  },
  "kernelspec": {
   "display_name": "Python 3 (ipykernel)",
   "language": "python",
   "name": "python3"
  },
  "language_info": {
   "codemirror_mode": {
    "name": "ipython",
    "version": 3
   },
   "file_extension": ".py",
   "mimetype": "text/x-python",
   "name": "python",
   "nbconvert_exporter": "python",
   "pygments_lexer": "ipython3",
   "version": "3.12.3"
  }
 },
 "nbformat": 4,
 "nbformat_minor": 4
}
